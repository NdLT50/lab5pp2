{
 "cells": [
  {
   "cell_type": "code",
   "execution_count": 1,
   "id": "24677e0c",
   "metadata": {},
   "outputs": [],
   "source": [
    "import re\n",
    "def match_a_b(string):\n",
    "    return bool(re.fullmatch(r'a*b*', string)) "
   ]
  },
  {
   "cell_type": "code",
   "execution_count": 2,
   "id": "e9911f8e",
   "metadata": {},
   "outputs": [],
   "source": [
    "def match_a_bbb(string):\n",
    "    return bool(re.fullmatch(r'ab{2,3}', string))"
   ]
  },
  {
   "cell_type": "code",
   "execution_count": 3,
   "id": "48e9e3ba",
   "metadata": {},
   "outputs": [],
   "source": [
    "def find_lowercase_underscore(string):\n",
    "    return re.findall(r'\\b[a-z]+_[a-z]+\\b', string)"
   ]
  },
  {
   "cell_type": "code",
   "execution_count": 4,
   "id": "2bb6dd2e",
   "metadata": {},
   "outputs": [],
   "source": [
    "def match_upper_lower(string):\n",
    "    return re.findall(r'[A-Z][a-z]+', string)"
   ]
  },
  {
   "cell_type": "code",
   "execution_count": 5,
   "id": "b7ad4e9f",
   "metadata": {},
   "outputs": [],
   "source": [
    "def match_a_anything_b(string):\n",
    "    return bool(re.fullmatch(r'a.*b', string))"
   ]
  },
  {
   "cell_type": "code",
   "execution_count": 6,
   "id": "89253b4d",
   "metadata": {},
   "outputs": [],
   "source": [
    "def replace_with_colon(string):\n",
    "    return re.sub(r'[ ,.]', ':', string)"
   ]
  },
  {
   "cell_type": "code",
   "execution_count": 7,
   "id": "3fd5f461",
   "metadata": {},
   "outputs": [
    {
     "name": "stdout",
     "output_type": "stream",
     "text": [
      "helloWorldExample\n"
     ]
    }
   ],
   "source": [
    "def snake_to_camel(string):\n",
    "    words = string.split('_')\n",
    "    return words[0] + ''.join(word.capitalize() for word in words[1:])\n",
    "print(snake_to_camel(\"hello_world_example\"))  "
   ]
  },
  {
   "cell_type": "code",
   "execution_count": 8,
   "id": "8c86172f",
   "metadata": {},
   "outputs": [],
   "source": [
    "def split_at_uppercase(string):\n",
    "    return re.findall(r'[A-Z][^A-Z]*', string)"
   ]
  },
  {
   "cell_type": "code",
   "execution_count": 9,
   "id": "47c23fff",
   "metadata": {},
   "outputs": [],
   "source": [
    "def insert_spaces_capital(string):\n",
    "    return re.sub(r'([a-z])([A-Z])', r'\\1 \\2', string) "
   ]
  },
  {
   "cell_type": "code",
   "execution_count": 10,
   "id": "daf5fa42",
   "metadata": {},
   "outputs": [],
   "source": [
    "def camel_to_snake(string):\n",
    "    return re.sub(r'([a-z])([A-Z])', r'\\1_\\2', string).lower()  "
   ]
  },
  {
   "cell_type": "code",
   "execution_count": 12,
   "id": "fa957218",
   "metadata": {},
   "outputs": [
    {
     "name": "stdout",
     "output_type": "stream",
     "text": [
      "[]\n",
      "[]\n",
      "[]\n",
      "[]\n",
      "[]\n",
      "[]\n",
      "[]\n",
      "[]\n",
      "[]\n",
      "[]\n",
      "[]\n",
      "[]\n",
      "[]\n",
      "[]\n",
      "[]\n",
      "[]\n",
      "[]\n",
      "[]\n",
      "[]\n",
      "[]\n",
      "[]\n",
      "[]\n",
      "[]\n",
      "[]\n",
      "['Bioject']\n",
      "[]\n",
      "[]\n",
      "[]\n",
      "[]\n",
      "[]\n",
      "['Vogt', 'Medical']\n",
      "[]\n",
      "[]\n",
      "[]\n",
      "[]\n",
      "[]\n",
      "['Naturella']\n",
      "[]\n",
      "[]\n",
      "[]\n",
      "[]\n",
      "[]\n",
      "[]\n",
      "[]\n",
      "[]\n",
      "[]\n",
      "[]\n",
      "[]\n",
      "[]\n",
      "[]\n",
      "[]\n",
      "[]\n",
      "[]\n",
      "[]\n",
      "[]\n",
      "[]\n",
      "[]\n",
      "[]\n",
      "[]\n",
      "[]\n",
      "[]\n",
      "[]\n",
      "[]\n",
      "[]\n",
      "[]\n",
      "[]\n",
      "['Carefree']\n",
      "[]\n",
      "[]\n",
      "[]\n",
      "[]\n",
      "[]\n",
      "['Pro', 'Series']\n",
      "[]\n",
      "[]\n",
      "[]\n",
      "[]\n",
      "[]\n",
      "['Pro', 'Series']\n",
      "[]\n",
      "[]\n",
      "[]\n",
      "[]\n",
      "[]\n",
      "['Clear']\n",
      "[]\n",
      "[]\n",
      "[]\n",
      "[]\n",
      "[]\n",
      "['Bio', 'World']\n",
      "[]\n",
      "[]\n",
      "[]\n",
      "[]\n",
      "[]\n",
      "['Bio', 'World']\n",
      "[]\n",
      "[]\n",
      "[]\n",
      "[]\n",
      "[]\n",
      "[]\n",
      "[]\n",
      "[]\n",
      "[]\n",
      "[]\n",
      "[]\n",
      "[]\n",
      "[]\n",
      "[]\n",
      "[]\n",
      "[]\n",
      "[]\n",
      "[]\n",
      "[]\n",
      "[]\n",
      "[]\n",
      "[]\n",
      "[]\n",
      "[]\n",
      "[]\n",
      "[]\n",
      "[]\n",
      "[]\n",
      "[]\n",
      "[]\n",
      "[]\n",
      "[]\n",
      "[]\n",
      "[]\n",
      "[]\n",
      "[]\n",
      "[]\n",
      "[]\n",
      "[]\n",
      "[]\n",
      "[]\n",
      "[]\n",
      "[]\n",
      "[]\n",
      "[]\n",
      "[]\n",
      "[]\n",
      "[]\n",
      "[]\n",
      "[]\n",
      "[]\n"
     ]
    }
   ],
   "source": [
    "with open(\"row.txt\", 'r', encoding='utf-8') as file:\n",
    "    for line in file:\n",
    "        print(re.findall(r'[A-Z][a-z]+', line))"
   ]
  },
  {
   "cell_type": "code",
   "execution_count": null,
   "id": "e6705c1f",
   "metadata": {},
   "outputs": [],
   "source": []
  }
 ],
 "metadata": {
  "kernelspec": {
   "display_name": "Python 3 (ipykernel)",
   "language": "python",
   "name": "python3"
  },
  "language_info": {
   "codemirror_mode": {
    "name": "ipython",
    "version": 3
   },
   "file_extension": ".py",
   "mimetype": "text/x-python",
   "name": "python",
   "nbconvert_exporter": "python",
   "pygments_lexer": "ipython3",
   "version": "3.11.4"
  }
 },
 "nbformat": 4,
 "nbformat_minor": 5
}
