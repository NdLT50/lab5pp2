{
 "cells": [
  {
   "cell_type": "code",
   "execution_count": 48,
   "id": "0a46e696",
   "metadata": {},
   "outputs": [],
   "source": [
    "with open('row.txt', 'r', encoding='utf-8') as file:\n",
    "    text = file.read()"
   ]
  },
  {
   "cell_type": "code",
   "execution_count": 32,
   "id": "24677e0c",
   "metadata": {},
   "outputs": [
    {
     "data": {
      "text/plain": [
       "[]"
      ]
     },
     "execution_count": 32,
     "metadata": {},
     "output_type": "execute_result"
    }
   ],
   "source": [
    "import re\n",
    "def match_a_b(string):\n",
    "    return (re.findall(r'\\ba\\b|\\bab+\\b', string)) \n",
    "match_a_b(text)"
   ]
  },
  {
   "cell_type": "code",
   "execution_count": null,
   "id": "e9911f8e",
   "metadata": {},
   "outputs": [
    {
     "data": {
      "text/plain": [
       "[]"
      ]
     },
     "execution_count": 34,
     "metadata": {},
     "output_type": "execute_result"
    }
   ],
   "source": [
    "def match_a_bbb(string):\n",
    "    return re.findall(r'\\bab{2,3}\\b', string)\n",
    "match_a_bbb(text)"
   ]
  },
  {
   "cell_type": "code",
   "execution_count": 21,
   "id": "48e9e3ba",
   "metadata": {},
   "outputs": [
    {
     "data": {
      "text/plain": [
       "[]"
      ]
     },
     "execution_count": 21,
     "metadata": {},
     "output_type": "execute_result"
    }
   ],
   "source": [
    "def find_lowercase_underscore(string):\n",
    "    return re.findall(r'\\b[a-z]+_[a-z]+\\b', string)\n",
    "find_lowercase_underscore(text)"
   ]
  },
  {
   "cell_type": "code",
   "execution_count": 22,
   "id": "2bb6dd2e",
   "metadata": {},
   "outputs": [
    {
     "data": {
      "text/plain": [
       "['Bioject',\n",
       " 'Vogt',\n",
       " 'Medical',\n",
       " 'Naturella',\n",
       " 'Carefree',\n",
       " 'Pro',\n",
       " 'Series',\n",
       " 'Pro',\n",
       " 'Series',\n",
       " 'Clear',\n",
       " 'Bio',\n",
       " 'World',\n",
       " 'Bio',\n",
       " 'World']"
      ]
     },
     "execution_count": 22,
     "metadata": {},
     "output_type": "execute_result"
    }
   ],
   "source": [
    "def match_upper_lower(string):\n",
    "    return re.findall(r'[A-Z][a-z]+', string)\n",
    "match_upper_lower(text)"
   ]
  },
  {
   "cell_type": "code",
   "execution_count": 36,
   "id": "b7ad4e9f",
   "metadata": {},
   "outputs": [
    {
     "data": {
      "text/plain": [
       "[]"
      ]
     },
     "execution_count": 36,
     "metadata": {},
     "output_type": "execute_result"
    }
   ],
   "source": [
    "def match_a_anything_b(string):\n",
    "    return re.findall(r'a.*b', string)\n",
    "match_a_anything_b(text)"
   ]
  },
  {
   "cell_type": "code",
   "execution_count": 24,
   "id": "89253b4d",
   "metadata": {},
   "outputs": [
    {
     "data": {
      "text/plain": [
       "'ДУБЛИКАТ\\nФилиал:ТОО:EUROPHARMA:Астана\\nБИН:080841000761\\nНДС:Серия:58001\\n:№:0014377\\nКасса:300-189\\nСмена:10\\nПорядковый:номер:чека:№64\\nЧек:№2331180266\\nКассир:Аптека:17-1\\nПРОДАЖА\\n1:\\nНатрия:хлорид:0:9%::200:мл::фл\\n2:000:x:154:00\\n308:00\\nСтоимость\\n308:00\\n2:\\nБорный:спирт:3%::20:мл::фл:\\n1:000:x:51:00\\n51:00\\nСтоимость\\n51:00\\n3:\\nШприц:2:мл::3-х:комп::(Bioject)\\n2:000:x:16:00\\n32:00\\nСтоимость\\n32:00\\n4:\\nСистема:для:инфузии:Vogt:Medical\\n2:000:x:60:00\\n120:00\\nСтоимость\\n120:00\\n5:\\nNaturella:прокладки:Классик:макси:№8\\n1:000:x:310:00\\n310:00\\nСтоимость\\n310:00\\n6:\\nAURA:Ватные:диски:№150\\n1:000:x:461:00\\n461:00\\nСтоимость\\n461:00\\n7:\\nЧистая:линия:скраб:мягкий:50:мл\\n1:000:x:381:00\\n381:00\\nСтоимость\\n381:00\\n8:\\nЧистая:линия::скраб:очищающийабрикос:50:мл\\n1:000:x:386:00\\n386:00\\nСтоимость\\n386:00\\n9:\\nЧистая:линия:скраб:мягкий:50:мл\\n1:000:x:381:00\\n381:00\\nСтоимость\\n381:00\\n10:\\nCarefree:салфетки:Алоэвоздухопроницаемые:№20\\n1:000:x:414:00\\n414:00\\nСтоимость\\n414:00\\n11:\\nPro:Series:Шампунь:яркий:цвет:500мл\\n1:000:x:841:00\\n841:00\\nСтоимость\\n841:00\\n12:\\nPro:Series:бальзам-ополаскивательдля:длител:ухода:за:окрашеннымиволосами:Яркий:цвет:500мл\\n1:000:x:841:00\\n841:00\\nСтоимость\\n841:00\\n13:\\nClear:шампунь:Актив:спорт:2в1мужской::400:мл\\n1:000:x:1:200:00\\n1:200:00\\nСтоимость\\n1:200:00\\n14:\\nBio:World:(HYDRO:THERAPY)Мицеллярная:вода:5в1::445мл\\n1:000:x:1:152:00\\n1:152:00\\nСтоимость\\n1:152:00\\n15:\\nBio:World:(HYDRO:THERAPY):Гель-муссдля:умывания:с:гиалуроновойкислотой::250мл\\n1:000:x:1:152:00\\n1:152:00\\nСтоимость\\n1:152:00\\n16:\\n[RX]-Натрия:хлорид:0:9%::100:мл::фл:\\n1:000:x:168:00\\n168:00\\nСтоимость\\n168:00\\n17:\\n[RX]-Дисоль:р-р:400:мл::фл:\\n1:000:x:163:00\\n163:00\\nСтоимость\\n163:00\\n18:\\nТагансорбент:с:иономи:серебра:№30:пор:\\n1:000:x:1:526:00\\n1:526:00\\nСтоимость\\n1:526:00\\n19:\\n[RX]-Церукал:2%::2:мл::№10::амп:\\n2:000:x:396:00\\n792:00\\nСтоимость\\n792:00\\n20:\\n[RX]-Андазол:200:мг::№40::табл:\\n1:000:x:7:330:00\\n7:330:00\\nСтоимость\\n7:330:00\\nБанковская:карта:\\n18:009:00\\nИТОГО:\\n18:009:00\\nв:т:ч::НДС:12%:\\n0:00\\nФискальный:признак:\\n2331180266\\nВремя::18:04:2019:11:13:58\\nг::Нур-султан:Казахстан::Мангилик:Ел:19::нп-5\\nОператор:фискальных:данных::АО\"Казахтелеком\"Для:проверки:чека:зайдите:на:сайт:consumer:oofd:kz\\nФИСКАЛЬНЫЙ:ЧЕК\\nФП\\nИНК:ОФД::311559\\nКод:ККМ:КГД:(РНМ)::620300145316\\nЗНМ::SWK00034961\\nWEBKASSA:KZ\\n'"
      ]
     },
     "execution_count": 24,
     "metadata": {},
     "output_type": "execute_result"
    }
   ],
   "source": [
    "def replace_with_colon(string):\n",
    "    return re.sub(r'[ ,.]', ':', string)\n",
    "replace_with_colon(text)"
   ]
  },
  {
   "cell_type": "code",
   "execution_count": 45,
   "id": "3fd5f461",
   "metadata": {},
   "outputs": [
    {
     "name": "stdout",
     "output_type": "stream",
     "text": [
      "[]\n",
      "[]\n"
     ]
    }
   ],
   "source": [
    "def snake_to_camel(str):\n",
    "    components = str.split('_')\n",
    "    return components[0] + ''.join(x.capitalize() for x in components[1:])\n",
    "\n",
    "snake = re.findall(r'\\b[a-z]+_[a-z]+\\b', text)\n",
    "converted = [snake_to_camel(word) for word in snake]\n",
    "print(snake)\n",
    "print(converted)"
   ]
  },
  {
   "cell_type": "code",
   "execution_count": 37,
   "id": "8c86172f",
   "metadata": {},
   "outputs": [
    {
     "data": {
      "text/plain": [
       "['E',\n",
       " 'U',\n",
       " 'R',\n",
       " 'O',\n",
       " 'P',\n",
       " 'H',\n",
       " 'A',\n",
       " 'R',\n",
       " 'M',\n",
       " 'A',\n",
       " 'Bioject',\n",
       " 'Vogt',\n",
       " 'Medical',\n",
       " 'Naturella',\n",
       " 'A',\n",
       " 'U',\n",
       " 'R',\n",
       " 'A',\n",
       " 'Carefree',\n",
       " 'Pro',\n",
       " 'Series',\n",
       " 'Pro',\n",
       " 'Series',\n",
       " 'Clear',\n",
       " 'Bio',\n",
       " 'World',\n",
       " 'H',\n",
       " 'Y',\n",
       " 'D',\n",
       " 'R',\n",
       " 'O',\n",
       " 'T',\n",
       " 'H',\n",
       " 'E',\n",
       " 'R',\n",
       " 'A',\n",
       " 'P',\n",
       " 'Y',\n",
       " 'Bio',\n",
       " 'World',\n",
       " 'H',\n",
       " 'Y',\n",
       " 'D',\n",
       " 'R',\n",
       " 'O',\n",
       " 'T',\n",
       " 'H',\n",
       " 'E',\n",
       " 'R',\n",
       " 'A',\n",
       " 'P',\n",
       " 'Y',\n",
       " 'R',\n",
       " 'X',\n",
       " 'R',\n",
       " 'X',\n",
       " 'R',\n",
       " 'X',\n",
       " 'R',\n",
       " 'X',\n",
       " 'S',\n",
       " 'W',\n",
       " 'K',\n",
       " 'W',\n",
       " 'E',\n",
       " 'B',\n",
       " 'K',\n",
       " 'A',\n",
       " 'S',\n",
       " 'S',\n",
       " 'A',\n",
       " 'K',\n",
       " 'Z']"
      ]
     },
     "execution_count": 37,
     "metadata": {},
     "output_type": "execute_result"
    }
   ],
   "source": [
    "def split_at_uppercase(string):\n",
    "    return re.findall(r'[A-Z][a-z]*', string)\n",
    "split_at_uppercase(text)\n"
   ]
  },
  {
   "cell_type": "code",
   "execution_count": 28,
   "id": "47c23fff",
   "metadata": {},
   "outputs": [
    {
     "data": {
      "text/plain": [
       "'ДУБЛИКАТ\\nФилиал ТОО EUROPHARMA Астана\\nБИН 080841000761\\nНДС Серия 58001\\n № 0014377\\nКасса 300-189\\nСмена 10\\nПорядковый номер чека №64\\nЧек №2331180266\\nКассир Аптека 17-1\\nПРОДАЖА\\n1.\\nНатрия хлорид 0,9%, 200 мл, фл\\n2,000 x 154,00\\n308,00\\nСтоимость\\n308,00\\n2.\\nБорный спирт 3%, 20 мл, фл.\\n1,000 x 51,00\\n51,00\\nСтоимость\\n51,00\\n3.\\nШприц 2 мл, 3-х комп. (Bioject)\\n2,000 x 16,00\\n32,00\\nСтоимость\\n32,00\\n4.\\nСистема для инфузии Vogt Medical\\n2,000 x 60,00\\n120,00\\nСтоимость\\n120,00\\n5.\\nNaturella прокладки Классик макси №8\\n1,000 x 310,00\\n310,00\\nСтоимость\\n310,00\\n6.\\nAURA Ватные диски №150\\n1,000 x 461,00\\n461,00\\nСтоимость\\n461,00\\n7.\\nЧистая линия скраб мягкий 50 мл\\n1,000 x 381,00\\n381,00\\nСтоимость\\n381,00\\n8.\\nЧистая линия  скраб очищающийабрикос 50 мл\\n1,000 x 386,00\\n386,00\\nСтоимость\\n386,00\\n9.\\nЧистая линия скраб мягкий 50 мл\\n1,000 x 381,00\\n381,00\\nСтоимость\\n381,00\\n10.\\nCarefree салфетки Алоэвоздухопроницаемые №20\\n1,000 x 414,00\\n414,00\\nСтоимость\\n414,00\\n11.\\nPro Series Шампунь яркий цвет 500мл\\n1,000 x 841,00\\n841,00\\nСтоимость\\n841,00\\n12.\\nPro Series бальзам-ополаскивательдля длител ухода за окрашеннымиволосами Яркий цвет 500мл\\n1,000 x 841,00\\n841,00\\nСтоимость\\n841,00\\n13.\\nClear шампунь Актив спорт 2в1мужской  400 мл\\n1,000 x 1 200,00\\n1 200,00\\nСтоимость\\n1 200,00\\n14.\\nBio World (HYDRO THERAPY)Мицеллярная вода 5в1, 445мл\\n1,000 x 1 152,00\\n1 152,00\\nСтоимость\\n1 152,00\\n15.\\nBio World (HYDRO THERAPY) Гель-муссдля умывания с гиалуроновойкислотой, 250мл\\n1,000 x 1 152,00\\n1 152,00\\nСтоимость\\n1 152,00\\n16.\\n[RX]-Натрия хлорид 0,9%, 100 мл, фл.\\n1,000 x 168,00\\n168,00\\nСтоимость\\n168,00\\n17.\\n[RX]-Дисоль р-р 400 мл, фл.\\n1,000 x 163,00\\n163,00\\nСтоимость\\n163,00\\n18.\\nТагансорбент с иономи серебра №30,пор.\\n1,000 x 1 526,00\\n1 526,00\\nСтоимость\\n1 526,00\\n19.\\n[RX]-Церукал 2%, 2 мл, №10, амп.\\n2,000 x 396,00\\n792,00\\nСтоимость\\n792,00\\n20.\\n[RX]-Андазол 200 мг, №40, табл.\\n1,000 x 7 330,00\\n7 330,00\\nСтоимость\\n7 330,00\\nБанковская карта:\\n18 009,00\\nИТОГО:\\n18 009,00\\nв т.ч. НДС 12%:\\n0,00\\nФискальный признак:\\n2331180266\\nВремя: 18.04.2019 11:13:58\\nг. Нур-султан,Казахстан, Мангилик Ел,19, нп-5\\nОператор фискальных данных: АО\"Казахтелеком\"Для проверки чека зайдите на сайт:consumer.oofd.kz\\nФИСКАЛЬНЫЙ ЧЕК\\nФП\\nИНК ОФД: 311559\\nКод ККМ КГД (РНМ): 620300145316\\nЗНМ: SWK00034961\\nWEBKASSA.KZ\\n'"
      ]
     },
     "execution_count": 28,
     "metadata": {},
     "output_type": "execute_result"
    }
   ],
   "source": [
    "def insert_spaces_capital(string):\n",
    "    return re.sub(r'([a-z])([A-Z])', r'\\1 \\2', string) \n",
    "insert_spaces_capital(text)"
   ]
  },
  {
   "cell_type": "code",
   "execution_count": 47,
   "id": "daf5fa42",
   "metadata": {},
   "outputs": [
    {
     "name": "stdout",
     "output_type": "stream",
     "text": [
      "['Bioject', 'Vogt', 'Medical', 'Naturella', 'CareFree', 'Pro', 'Series', 'Pro', 'Series', 'Clear', 'Bio', 'World', 'Bio', 'World']\n",
      "['bioject', 'vogt', 'medical', 'naturella', 'care_free', 'pro', 'series', 'pro', 'series', 'clear', 'bio', 'world', 'bio', 'world']\n"
     ]
    }
   ],
   "source": [
    "def camel_to_snake(string):\n",
    "    return re.sub(r'(?<!^)(?=[A-Z])', '_', string).lower()  \n",
    "camel = re.findall(r'\\b[A-Z][a-z]+(?:[A-Z][a-z]*)*\\b', text)\n",
    "converted=[camel_to_snake(word) for word in camel]\n",
    "print(camel)\n",
    "print(converted)\n"
   ]
  },
  {
   "cell_type": "code",
   "execution_count": null,
   "id": "fa957218",
   "metadata": {},
   "outputs": [],
   "source": []
  },
  {
   "cell_type": "code",
   "execution_count": null,
   "id": "e6705c1f",
   "metadata": {},
   "outputs": [],
   "source": []
  }
 ],
 "metadata": {
  "kernelspec": {
   "display_name": "base",
   "language": "python",
   "name": "python3"
  },
  "language_info": {
   "codemirror_mode": {
    "name": "ipython",
    "version": 3
   },
   "file_extension": ".py",
   "mimetype": "text/x-python",
   "name": "python",
   "nbconvert_exporter": "python",
   "pygments_lexer": "ipython3",
   "version": "3.11.4"
  }
 },
 "nbformat": 4,
 "nbformat_minor": 5
}
